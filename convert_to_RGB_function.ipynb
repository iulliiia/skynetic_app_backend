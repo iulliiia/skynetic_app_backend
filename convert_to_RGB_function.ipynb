{
 "cells": [
  {
   "cell_type": "code",
   "execution_count": 1,
   "id": "1535becb",
   "metadata": {},
   "outputs": [],
   "source": [
    "from PIL import Image\n",
    "import os\n",
    "\n",
    "def convert_all_to_rgb(folder):\n",
    "    for root, _, files in os.walk(folder):\n",
    "        for file in files:\n",
    "            if file.lower().endswith(('.png', '.jpg', '.jpeg')):\n",
    "                img_path = os.path.join(root, file)\n",
    "                img = Image.open(img_path)\n",
    "                if img.mode == 'RGBA':\n",
    "                    img = img.convert('RGB')\n",
    "                    img.save(img_path)\n",
    "\n",
    "# Convert all images in the Train folder to RGB\n",
    "convert_all_to_rgb(\"./Skin cancer ISIC DataSet/Train\")\n",
    "convert_all_to_rgb(\"./Skin cancer ISIC DataSet/Test\")\n"
   ]
  },
  {
   "cell_type": "code",
   "execution_count": null,
   "id": "2b9c3573",
   "metadata": {},
   "outputs": [],
   "source": []
  }
 ],
 "metadata": {
  "kernelspec": {
   "display_name": "Python 3",
   "language": "python",
   "name": "python3"
  },
  "language_info": {
   "codemirror_mode": {
    "name": "ipython",
    "version": 3
   },
   "file_extension": ".py",
   "mimetype": "text/x-python",
   "name": "python",
   "nbconvert_exporter": "python",
   "pygments_lexer": "ipython3",
   "version": "3.11.0"
  }
 },
 "nbformat": 4,
 "nbformat_minor": 5
}
